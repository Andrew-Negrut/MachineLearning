{
  "nbformat": 4,
  "nbformat_minor": 0,
  "metadata": {
    "colab": {
      "provenance": [],
      "gpuType": "T4",
      "authorship_tag": "ABX9TyMN1kWf1uMX3fS6O34Rq3OP",
      "include_colab_link": true
    },
    "kernelspec": {
      "name": "python3",
      "display_name": "Python 3"
    },
    "language_info": {
      "name": "python"
    },
    "accelerator": "GPU"
  },
  "cells": [
    {
      "cell_type": "markdown",
      "metadata": {
        "id": "view-in-github",
        "colab_type": "text"
      },
      "source": [
        "<a href=\"https://colab.research.google.com/github/Andrew-Negrut/MachineLearning/blob/main/PerceptronClassification.ipynb\" target=\"_parent\"><img src=\"https://colab.research.google.com/assets/colab-badge.svg\" alt=\"Open In Colab\"/></a>"
      ]
    },
    {
      "cell_type": "code",
      "execution_count": null,
      "metadata": {
        "id": "jNwv44alzteH"
      },
      "outputs": [],
      "source": [
        "import numpy as np\n",
        "import matplotlib.pyplot as plt"
      ]
    },
    {
      "cell_type": "code",
      "source": [
        "# start with 2D binary classification\n",
        "# Feature vector x^i has three entries: The two features x_0 and x_1, and a \"1\".\n",
        "# Weight vector w has three entries: w_0, w_1, and a bias \"b\"."
      ],
      "metadata": {
        "id": "r52To_V30Htd"
      },
      "execution_count": null,
      "outputs": []
    },
    {
      "cell_type": "code",
      "source": [
        "x = np.array([[1, 1, 1], [1, 3, 1], [3, 0, 1], [4, 3, 1], [5, 1, 1], [-2, -3, 1], [-3, -2, 1], [-4, -1, 1], [-5, -3, 1], [-7, 1, 1]])\n",
        "y = np.array([1, 1, 1, 1, 1, -1, -1, -1, -1, 1])"
      ],
      "metadata": {
        "id": "HLcRqq5d4x7K"
      },
      "execution_count": null,
      "outputs": []
    },
    {
      "cell_type": "code",
      "source": [
        "colors = []\n",
        "for i in range(len(y)):\n",
        "  if y[i] == 1:\n",
        "    colors.append('red')\n",
        "  else:\n",
        "    colors.append('blue')\n",
        "colors"
      ],
      "metadata": {
        "colab": {
          "base_uri": "https://localhost:8080/"
        },
        "id": "rP7lxwzohbNR",
        "outputId": "b01ebb55-7798-4003-be1b-c6a0e3c11258"
      },
      "execution_count": null,
      "outputs": [
        {
          "output_type": "execute_result",
          "data": {
            "text/plain": [
              "['red', 'red', 'red', 'red', 'red', 'blue', 'blue', 'blue', 'blue', 'red']"
            ]
          },
          "metadata": {},
          "execution_count": 4
        }
      ]
    },
    {
      "cell_type": "code",
      "source": [
        "# prompt: make a new numpy array called x0 that contains the first element from each numpy array within x\n",
        "\n",
        "x0 = x[:, 0]"
      ],
      "metadata": {
        "id": "u5w4oQTrf-vr"
      },
      "execution_count": null,
      "outputs": []
    },
    {
      "cell_type": "code",
      "source": [
        "x1 = x[:, 1]"
      ],
      "metadata": {
        "id": "1oGJbZu2gRi4"
      },
      "execution_count": null,
      "outputs": []
    },
    {
      "cell_type": "code",
      "source": [
        "n_points = len(x)"
      ],
      "metadata": {
        "id": "jLURmQjp6UMx"
      },
      "execution_count": null,
      "outputs": []
    },
    {
      "cell_type": "code",
      "source": [
        "w = np.zeros(3)"
      ],
      "metadata": {
        "id": "lwNKsKxW1B6Z"
      },
      "execution_count": null,
      "outputs": []
    },
    {
      "cell_type": "code",
      "source": [
        "while (True):\n",
        "  misclassified = 0\n",
        "\n",
        "  for i in range(n_points):\n",
        "    if y[i] * np.dot(w.T, x[i]) <= 0: # misclassified point i\n",
        "      misclassified += 1\n",
        "      w += y[i] * x[i]\n",
        "\n",
        "  if misclassified == 0:\n",
        "    break"
      ],
      "metadata": {
        "id": "ihI1zpbN2nQ8"
      },
      "execution_count": null,
      "outputs": []
    },
    {
      "cell_type": "code",
      "source": [
        "w"
      ],
      "metadata": {
        "colab": {
          "base_uri": "https://localhost:8080/"
        },
        "id": "Q_JVFGKr9Vs5",
        "outputId": "fc488ea8-bf4b-48da-b2e2-237af6ca3d29"
      },
      "execution_count": null,
      "outputs": [
        {
          "output_type": "execute_result",
          "data": {
            "text/plain": [
              "array([2., 9., 7.])"
            ]
          },
          "metadata": {},
          "execution_count": 10
        }
      ]
    },
    {
      "cell_type": "code",
      "source": [
        "plt.figure()\n",
        "plt.scatter(x0, x1, c=colors)\n",
        "plt.axhline(0, color='black', linewidth=.5)\n",
        "plt.axvline(0, color='black', linewidth=.5)\n",
        "\n",
        "x0_inp = np.linspace(np.min(x[:, 0]), np.max(x[:, 0]))\n",
        "plt.plot(x0_inp, (-1 * w[2]) / w[1] + ((-1 * w[0]) / w[1]) * x0_inp, linestyle=\"dashed\", linewidth=3, color='g')\n",
        "plt.show()"
      ],
      "metadata": {
        "colab": {
          "base_uri": "https://localhost:8080/",
          "height": 430
        },
        "id": "NdAS7N_zfpD8",
        "outputId": "2beb0f8b-e06b-496d-e223-2fd16f6ec316"
      },
      "execution_count": null,
      "outputs": [
        {
          "output_type": "display_data",
          "data": {
            "text/plain": [
              "<Figure size 640x480 with 1 Axes>"
            ],
            "image/png": "[encoded data removed]"
          },
          "metadata": {}
        }
      ]
    }
  ]
}