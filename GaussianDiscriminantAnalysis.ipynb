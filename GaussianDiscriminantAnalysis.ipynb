{
  "nbformat": 4,
  "nbformat_minor": 0,
  "metadata": {
    "colab": {
      "provenance": [],
      "authorship_tag": "ABX9TyO4GqOKGVj9chzd4jVz3BC8",
      "include_colab_link": true
    },
    "kernelspec": {
      "name": "python3",
      "display_name": "Python 3"
    },
    "language_info": {
      "name": "python"
    }
  },
  "cells": [
    {
      "cell_type": "markdown",
      "metadata": {
        "id": "view-in-github",
        "colab_type": "text"
      },
      "source": [
        "<a href=\"https://colab.research.google.com/github/Andrew-Negrut/MachineLearning/blob/main/GaussianDiscriminantAnalysis.ipynb\" target=\"_parent\"><img src=\"https://colab.research.google.com/assets/colab-badge.svg\" alt=\"Open In Colab\"/></a>"
      ]
    },
    {
      "cell_type": "code",
      "source": [
        "import numpy as np\n",
        "import matplotlib.pyplot as plt\n",
        "import math\n",
        "from sklearn.datasets import make_classification"
      ],
      "metadata": {
        "id": "Cs27cyPXjRs6"
      },
      "execution_count": 310,
      "outputs": []
    },
    {
      "cell_type": "code",
      "source": [
        "import random"
      ],
      "metadata": {
        "id": "PBG69-H1xh32"
      },
      "execution_count": 311,
      "outputs": []
    },
    {
      "cell_type": "code",
      "source": [
        "# 100 data points\n",
        "m = 100"
      ],
      "metadata": {
        "id": "ejx_0ZIglSog"
      },
      "execution_count": 312,
      "outputs": []
    },
    {
      "cell_type": "code",
      "source": [
        "# generate data\n",
        "x, y = make_classification(n_samples=m, n_features=2, n_redundant=0)"
      ],
      "metadata": {
        "id": "tueSYnr2jTl1"
      },
      "execution_count": 313,
      "outputs": []
    },
    {
      "cell_type": "code",
      "source": [
        "# add colors to visualize classes\n",
        "\n",
        "colors = []\n",
        "for i in range(m):\n",
        "  if y[i] == 0:\n",
        "    colors.append('red')\n",
        "  else:\n",
        "    colors.append('blue')"
      ],
      "metadata": {
        "id": "pheDbqLQjdtd"
      },
      "execution_count": 314,
      "outputs": []
    },
    {
      "cell_type": "code",
      "source": [
        "plt.scatter(x[:, 0], x[:, 1], c=colors)"
      ],
      "metadata": {
        "colab": {
          "base_uri": "https://localhost:8080/",
          "height": 448
        },
        "id": "w6K6O037jgXZ",
        "outputId": "d0813f32-ccf3-438d-cd07-eb47dac5dcf1"
      },
      "execution_count": 315,
      "outputs": [
        {
          "output_type": "execute_result",
          "data": {
            "text/plain": [
              "<matplotlib.collections.PathCollection at 0x7b008db54490>"
            ]
          },
          "metadata": {},
          "execution_count": 315
        },
        {
          "output_type": "display_data",
          "data": {
            "text/plain": [
              "<Figure size 640x480 with 1 Axes>"
            ],
            "image/png": "[encoded data removed]"
          },
          "metadata": {}
        }
      ]
    },
    {
      "cell_type": "code",
      "source": [
        "# calculate optimal value of phi\n",
        "y_sum = 0\n",
        "for i in range(m):\n",
        "  y_sum += y[i]\n",
        "\n",
        "phi = y_sum / m\n",
        "\n",
        "phi"
      ],
      "metadata": {
        "colab": {
          "base_uri": "https://localhost:8080/"
        },
        "id": "fQfJmA5glJl3",
        "outputId": "ab57f703-9674-45ec-8097-802db9eed5a9"
      },
      "execution_count": 316,
      "outputs": [
        {
          "output_type": "execute_result",
          "data": {
            "text/plain": [
              "0.5"
            ]
          },
          "metadata": {},
          "execution_count": 316
        }
      ]
    },
    {
      "cell_type": "code",
      "source": [
        "# calculate optimal value of mu0\n",
        "part1 = np.zeros(2)\n",
        "part2 = 0\n",
        "\n",
        "for i in range(m):\n",
        "  if y[i] == 0:\n",
        "    part1 += x[i]\n",
        "    part2 += 1\n",
        "\n",
        "mu0 = (part1 / part2).copy()\n",
        "\n",
        "mu0"
      ],
      "metadata": {
        "colab": {
          "base_uri": "https://localhost:8080/"
        },
        "id": "MhP9nTqDlfz5",
        "outputId": "4c392ad1-a74f-4e7f-e4bc-69a322257c68"
      },
      "execution_count": 317,
      "outputs": [
        {
          "output_type": "execute_result",
          "data": {
            "text/plain": [
              "array([-0.14672748, -0.96117125])"
            ]
          },
          "metadata": {},
          "execution_count": 317
        }
      ]
    },
    {
      "cell_type": "code",
      "source": [
        "# calculate optimal value of mu1\n",
        "part1 = np.zeros(2)\n",
        "part2 = 0\n",
        "\n",
        "for i in range(m):\n",
        "  if y[i] == 1:\n",
        "    part1 += x[i]\n",
        "    part2 += 1\n",
        "\n",
        "mu1 = (part1 / part2).copy()\n",
        "\n",
        "mu1"
      ],
      "metadata": {
        "colab": {
          "base_uri": "https://localhost:8080/"
        },
        "id": "f2j499lUmVlK",
        "outputId": "a534136e-9737-4ee4-b73d-d2f5b2cc8e78"
      },
      "execution_count": 318,
      "outputs": [
        {
          "output_type": "execute_result",
          "data": {
            "text/plain": [
              "array([0.02950855, 1.00786019])"
            ]
          },
          "metadata": {},
          "execution_count": 318
        }
      ]
    },
    {
      "cell_type": "code",
      "source": [
        "# calculate optimal value of sigma\n",
        "sum = np.zeros([2, 2])\n",
        "\n",
        "for i in range(m):\n",
        "  if y[i] == 0:\n",
        "    sum += np.outer((x[i] - mu0), (x[i] - mu0))\n",
        "  else:\n",
        "    sum += np.outer((x[i] - mu1), (x[i] - mu1))\n",
        "\n",
        "sigma = (sum / m).copy()\n",
        "\n",
        "sigma"
      ],
      "metadata": {
        "colab": {
          "base_uri": "https://localhost:8080/"
        },
        "id": "jVySppS6mmuO",
        "outputId": "95076fdb-84ad-4434-e1dd-e6b3903cac27"
      },
      "execution_count": 319,
      "outputs": [
        {
          "output_type": "execute_result",
          "data": {
            "text/plain": [
              "array([[ 2.05290285, -0.02880411],\n",
              "       [-0.02880411,  0.34302038]])"
            ]
          },
          "metadata": {},
          "execution_count": 319
        }
      ]
    },
    {
      "cell_type": "code",
      "source": [
        "# make a prediction on an input point\n",
        "\n",
        "def predict(x_inp):\n",
        "  prob0 = (1 - phi) * (1 / (2 * math.pi * math.sqrt(\n",
        "      np.linalg.det(sigma)))) * math.exp(-0.5 * np.dot\n",
        "       (((x_inp - mu0).T)@(np.linalg.inv(sigma)), (x_inp - mu0)))\n",
        "\n",
        "  prob1 = phi * (1 / (2 * math.pi * math.sqrt(\n",
        "      np.linalg.det(sigma)))) * math.exp(-0.5 * np.dot\n",
        "       (((x_inp - mu1).T)@(np.linalg.inv(sigma)), (x_inp - mu1)))\n",
        "\n",
        "  if prob0 >= prob1:\n",
        "    return 0\n",
        "  else:\n",
        "    return 1"
      ],
      "metadata": {
        "id": "Jb8YfZL4joT1"
      },
      "execution_count": 320,
      "outputs": []
    },
    {
      "cell_type": "code",
      "source": [
        "# run a couple of quick tests"
      ],
      "metadata": {
        "id": "FaC27zAGysQw"
      },
      "execution_count": 321,
      "outputs": []
    },
    {
      "cell_type": "code",
      "source": [
        "predict(np.array([-2, -2]))"
      ],
      "metadata": {
        "colab": {
          "base_uri": "https://localhost:8080/"
        },
        "id": "wi7lksKws-0k",
        "outputId": "dd1f8ec4-d15a-4ea0-b3f4-a921593c7a46"
      },
      "execution_count": 322,
      "outputs": [
        {
          "output_type": "execute_result",
          "data": {
            "text/plain": [
              "0"
            ]
          },
          "metadata": {},
          "execution_count": 322
        }
      ]
    },
    {
      "cell_type": "code",
      "source": [
        "predict(np.array([2, 2]))"
      ],
      "metadata": {
        "colab": {
          "base_uri": "https://localhost:8080/"
        },
        "id": "ogNIBLslweeu",
        "outputId": "80531a82-54e7-4f28-bfa5-29e3050c46e7"
      },
      "execution_count": 323,
      "outputs": [
        {
          "output_type": "execute_result",
          "data": {
            "text/plain": [
              "1"
            ]
          },
          "metadata": {},
          "execution_count": 323
        }
      ]
    },
    {
      "cell_type": "code",
      "source": [
        "predict(np.array([-2, 2]))"
      ],
      "metadata": {
        "colab": {
          "base_uri": "https://localhost:8080/"
        },
        "id": "fvsEoZgiwf4B",
        "outputId": "fbb43d33-fc85-4dbf-c236-ae8f66bb397a"
      },
      "execution_count": 324,
      "outputs": [
        {
          "output_type": "execute_result",
          "data": {
            "text/plain": [
              "1"
            ]
          },
          "metadata": {},
          "execution_count": 324
        }
      ]
    },
    {
      "cell_type": "code",
      "source": [
        "predict(np.array([2, -2]))"
      ],
      "metadata": {
        "colab": {
          "base_uri": "https://localhost:8080/"
        },
        "id": "949kXVbHwlv1",
        "outputId": "8c13e0ee-22ed-41e7-91bf-58431af0176f"
      },
      "execution_count": 325,
      "outputs": [
        {
          "output_type": "execute_result",
          "data": {
            "text/plain": [
              "0"
            ]
          },
          "metadata": {},
          "execution_count": 325
        }
      ]
    },
    {
      "cell_type": "code",
      "source": [
        "# generate data for more comprehensive test\n",
        "\n",
        "x0_test = []\n",
        "x1_test = []\n",
        "\n",
        "for i in range(20):\n",
        "  x0_test.append(random.randint(int(np.min(x[:, 0])), int(np.max(x[:, 0]))))\n",
        "  x1_test.append(random.randint(int(np.min(x[:, 1])), int(np.max(x[:, 1]))))"
      ],
      "metadata": {
        "id": "r7h2EjNTwpOM"
      },
      "execution_count": 326,
      "outputs": []
    },
    {
      "cell_type": "code",
      "source": [
        "# more comprehensive tests; '+' indicates a sample test input point\n",
        "\n",
        "plt.scatter(x[:, 0], x[:, 1], c=colors)\n",
        "\n",
        "for i in range(20):\n",
        "  if predict(np.array([x0_test[i], x1_test[i]])) == 0:\n",
        "    plt.plot(x0_test[i], x1_test[i], 'r+')\n",
        "  else:\n",
        "    plt.plot(x0_test[i], x1_test[i], 'b+')\n",
        "\n",
        "plt.show()"
      ],
      "metadata": {
        "colab": {
          "base_uri": "https://localhost:8080/",
          "height": 430
        },
        "id": "2L0jRI9Yx1rw",
        "outputId": "01ec584a-0b7c-4bc5-cef7-6bb8903dc636"
      },
      "execution_count": 327,
      "outputs": [
        {
          "output_type": "display_data",
          "data": {
            "text/plain": [
              "<Figure size 640x480 with 1 Axes>"
            ],
            "image/png": "[encoded data removed]"
          },
          "metadata": {}
        }
      ]
    }
  ]
}