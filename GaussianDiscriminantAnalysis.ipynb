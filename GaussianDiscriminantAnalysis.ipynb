{
  "nbformat": 4,
  "nbformat_minor": 0,
  "metadata": {
    "colab": {
      "provenance": [],
      "authorship_tag": "ABX9TyMlPQbmVEDsWI7ZZL+6l6ZP",
      "include_colab_link": true
    },
    "kernelspec": {
      "name": "python3",
      "display_name": "Python 3"
    },
    "language_info": {
      "name": "python"
    }
  },
  "cells": [
    {
      "cell_type": "markdown",
      "metadata": {
        "id": "view-in-github",
        "colab_type": "text"
      },
      "source": [
        "<a href=\"https://colab.research.google.com/github/Andrew-Negrut/MachineLearning/blob/main/GaussianDiscriminantAnalysis.ipynb\" target=\"_parent\"><img src=\"https://colab.research.google.com/assets/colab-badge.svg\" alt=\"Open In Colab\"/></a>"
      ]
    },
    {
      "cell_type": "code",
      "source": [
        "import numpy as np\n",
        "import matplotlib.pyplot as plt\n",
        "import math\n",
        "from sklearn.datasets import make_classification"
      ],
      "metadata": {
        "id": "Cs27cyPXjRs6"
      },
      "execution_count": 274,
      "outputs": []
    },
    {
      "cell_type": "code",
      "source": [
        "import random"
      ],
      "metadata": {
        "id": "PBG69-H1xh32"
      },
      "execution_count": 275,
      "outputs": []
    },
    {
      "cell_type": "code",
      "source": [
        "# 100 data points\n",
        "m = 100"
      ],
      "metadata": {
        "id": "ejx_0ZIglSog"
      },
      "execution_count": 276,
      "outputs": []
    },
    {
      "cell_type": "code",
      "source": [
        "# generate data\n",
        "x, y = make_classification(n_samples=m, n_features=2, n_redundant=0)"
      ],
      "metadata": {
        "id": "tueSYnr2jTl1"
      },
      "execution_count": 277,
      "outputs": []
    },
    {
      "cell_type": "code",
      "source": [
        "# add colors to visualize classes\n",
        "\n",
        "colors = []\n",
        "for i in range(m):\n",
        "  if y[i] == 0:\n",
        "    colors.append('red')\n",
        "  else:\n",
        "    colors.append('blue')"
      ],
      "metadata": {
        "id": "pheDbqLQjdtd"
      },
      "execution_count": 278,
      "outputs": []
    },
    {
      "cell_type": "code",
      "source": [
        "plt.scatter(x[:, 0], x[:, 1], c=colors)"
      ],
      "metadata": {
        "colab": {
          "base_uri": "https://localhost:8080/",
          "height": 448
        },
        "id": "w6K6O037jgXZ",
        "outputId": "eabab2f8-682a-4e94-c16f-d92fbe50c877"
      },
      "execution_count": 279,
      "outputs": [
        {
          "output_type": "execute_result",
          "data": {
            "text/plain": [
              "<matplotlib.collections.PathCollection at 0x7b008dd14130>"
            ]
          },
          "metadata": {},
          "execution_count": 279
        },
        {
          "output_type": "display_data",
          "data": {
            "text/plain": [
              "<Figure size 640x480 with 1 Axes>"
            ],
            "image/png": "[encoded data removed]"
          },
          "metadata": {}
        }
      ]
    },
    {
      "cell_type": "code",
      "source": [
        "# calculate optimal value of phi\n",
        "y_sum = 0\n",
        "for i in range(m):\n",
        "  y_sum += y[i]\n",
        "\n",
        "phi = y_sum / m\n",
        "\n",
        "phi"
      ],
      "metadata": {
        "colab": {
          "base_uri": "https://localhost:8080/"
        },
        "id": "fQfJmA5glJl3",
        "outputId": "690529cc-c6e4-46db-c445-a2ab70251d84"
      },
      "execution_count": 280,
      "outputs": [
        {
          "output_type": "execute_result",
          "data": {
            "text/plain": [
              "0.5"
            ]
          },
          "metadata": {},
          "execution_count": 280
        }
      ]
    },
    {
      "cell_type": "code",
      "source": [
        "# calculate optimal value of mu0\n",
        "part1 = np.zeros(2)\n",
        "part2 = 0\n",
        "\n",
        "for i in range(m):\n",
        "  if y[i] == 0:\n",
        "    part1 += x[i]\n",
        "    part2 += 1\n",
        "\n",
        "mu0 = (part1 / part2).copy()\n",
        "\n",
        "mu0"
      ],
      "metadata": {
        "colab": {
          "base_uri": "https://localhost:8080/"
        },
        "id": "MhP9nTqDlfz5",
        "outputId": "86843a7b-2d4a-44aa-c6b6-a3fa1a5605e7"
      },
      "execution_count": 281,
      "outputs": [
        {
          "output_type": "execute_result",
          "data": {
            "text/plain": [
              "array([-0.22275842, -0.89487095])"
            ]
          },
          "metadata": {},
          "execution_count": 281
        }
      ]
    },
    {
      "cell_type": "code",
      "source": [
        "# calculate optimal value of mu1\n",
        "part1 = np.zeros(2)\n",
        "part2 = 0\n",
        "\n",
        "for i in range(m):\n",
        "  if y[i] == 1:\n",
        "    part1 += x[i]\n",
        "    part2 += 1\n",
        "\n",
        "mu1 = (part1 / part2).copy()\n",
        "\n",
        "mu1"
      ],
      "metadata": {
        "colab": {
          "base_uri": "https://localhost:8080/"
        },
        "id": "f2j499lUmVlK",
        "outputId": "c251f325-6e2a-4b23-904f-eb76418b0bc3"
      },
      "execution_count": 282,
      "outputs": [
        {
          "output_type": "execute_result",
          "data": {
            "text/plain": [
              "array([0.03312277, 1.01262904])"
            ]
          },
          "metadata": {},
          "execution_count": 282
        }
      ]
    },
    {
      "cell_type": "code",
      "source": [
        "# calculate optimal value of sigma\n",
        "sum = np.zeros([2, 2])\n",
        "\n",
        "for i in range(m):\n",
        "  if y[i] == 0:\n",
        "    sum += np.outer((x[i] - mu0), (x[i] - mu0))\n",
        "  else:\n",
        "    sum += np.outer((x[i] - mu1), (x[i] - mu1))\n",
        "\n",
        "sigma = (sum / m).copy()\n",
        "\n",
        "sigma"
      ],
      "metadata": {
        "colab": {
          "base_uri": "https://localhost:8080/"
        },
        "id": "jVySppS6mmuO",
        "outputId": "043d2157-6dc6-4edb-a3c8-52e36ed60962"
      },
      "execution_count": 283,
      "outputs": [
        {
          "output_type": "execute_result",
          "data": {
            "text/plain": [
              "array([[ 2.22101261, -0.46406571],\n",
              "       [-0.46406571,  0.46964856]])"
            ]
          },
          "metadata": {},
          "execution_count": 283
        }
      ]
    },
    {
      "cell_type": "code",
      "source": [
        "# make a prediction on an input point\n",
        "\n",
        "def predict(x_inp):\n",
        "  prob0 = (1 - phi) * (1 / (2 * math.pi * math.sqrt(np.linalg.det(sigma)))) * math.exp(-0.5 * np.dot(((x_inp - mu0).T)@(np.linalg.inv(sigma)), (x_inp - mu0)))\n",
        "\n",
        "  prob1 = phi * (1 / (2 * math.pi * math.sqrt(np.linalg.det(sigma)))) * math.exp(-0.5 * np.dot(((x_inp - mu1).T)@(np.linalg.inv(sigma)), (x_inp - mu1)))\n",
        "\n",
        "  if prob0 >= prob1:\n",
        "    return 0\n",
        "  else:\n",
        "    return 1"
      ],
      "metadata": {
        "id": "Jb8YfZL4joT1"
      },
      "execution_count": 284,
      "outputs": []
    },
    {
      "cell_type": "code",
      "source": [
        "# run a couple of quick tests"
      ],
      "metadata": {
        "id": "FaC27zAGysQw"
      },
      "execution_count": 285,
      "outputs": []
    },
    {
      "cell_type": "code",
      "source": [
        "predict(np.array([-2, -2]))"
      ],
      "metadata": {
        "colab": {
          "base_uri": "https://localhost:8080/"
        },
        "id": "wi7lksKws-0k",
        "outputId": "3d091c33-7306-4c29-ee45-95db0e6d5c6e"
      },
      "execution_count": 286,
      "outputs": [
        {
          "output_type": "execute_result",
          "data": {
            "text/plain": [
              "0"
            ]
          },
          "metadata": {},
          "execution_count": 286
        }
      ]
    },
    {
      "cell_type": "code",
      "source": [
        "predict(np.array([2, 2]))"
      ],
      "metadata": {
        "colab": {
          "base_uri": "https://localhost:8080/"
        },
        "id": "ogNIBLslweeu",
        "outputId": "dd701935-5bad-480f-a090-8fd936c35237"
      },
      "execution_count": 287,
      "outputs": [
        {
          "output_type": "execute_result",
          "data": {
            "text/plain": [
              "1"
            ]
          },
          "metadata": {},
          "execution_count": 287
        }
      ]
    },
    {
      "cell_type": "code",
      "source": [
        "predict(np.array([-2, 2]))"
      ],
      "metadata": {
        "colab": {
          "base_uri": "https://localhost:8080/"
        },
        "id": "fvsEoZgiwf4B",
        "outputId": "57b83f7a-bf63-4219-9dfc-eb97035ac765"
      },
      "execution_count": 288,
      "outputs": [
        {
          "output_type": "execute_result",
          "data": {
            "text/plain": [
              "1"
            ]
          },
          "metadata": {},
          "execution_count": 288
        }
      ]
    },
    {
      "cell_type": "code",
      "source": [
        "predict(np.array([2, -2]))"
      ],
      "metadata": {
        "colab": {
          "base_uri": "https://localhost:8080/"
        },
        "id": "949kXVbHwlv1",
        "outputId": "12b446e9-05e7-40c7-c75b-aad8bffdcfc9"
      },
      "execution_count": 289,
      "outputs": [
        {
          "output_type": "execute_result",
          "data": {
            "text/plain": [
              "0"
            ]
          },
          "metadata": {},
          "execution_count": 289
        }
      ]
    },
    {
      "cell_type": "code",
      "source": [
        "# generate test data for more comprehensive test\n",
        "\n",
        "x0_test = []\n",
        "x1_test = []\n",
        "\n",
        "for i in range(20):\n",
        "  x0_test.append(random.randint(int(np.min(x[:, 0])), int(np.max(x[:, 0]))))\n",
        "  x1_test.append(random.randint(int(np.min(x[:, 1])), int(np.max(x[:, 1]))))"
      ],
      "metadata": {
        "id": "r7h2EjNTwpOM"
      },
      "execution_count": 290,
      "outputs": []
    },
    {
      "cell_type": "code",
      "source": [
        "# more comprehensive tests; '+' indicates a sample test input point\n",
        "\n",
        "plt.scatter(x[:, 0], x[:, 1], c=colors)\n",
        "\n",
        "for i in range(20):\n",
        "  if predict(np.array([x0_test[i], x1_test[i]])) == 0:\n",
        "    plt.plot(x0_test[i], x1_test[i], 'r+')\n",
        "  else:\n",
        "    plt.plot(x0_test[i], x1_test[i], 'b+')\n",
        "\n",
        "plt.show()"
      ],
      "metadata": {
        "colab": {
          "base_uri": "https://localhost:8080/",
          "height": 430
        },
        "id": "2L0jRI9Yx1rw",
        "outputId": "67515217-f144-4610-941a-8946139087ed"
      },
      "execution_count": 291,
      "outputs": [
        {
          "output_type": "display_data",
          "data": {
            "text/plain": [
              "<Figure size 640x480 with 1 Axes>"
            ],
            "image/png": "[encoded data removed]"
          },
          "metadata": {}
        }
      ]
    }
  ]
}